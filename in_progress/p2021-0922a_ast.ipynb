{
 "cells": [
  {
   "cell_type": "markdown",
   "id": "c6068af7",
   "metadata": {},
   "source": [
    "More experiments with the `ast` module.\n",
    "\n",
    "\n",
    "Continued from `p2021-0918a_ast.ipynb`."
   ]
  },
  {
   "cell_type": "markdown",
   "id": "e02a9083",
   "metadata": {},
   "source": [
    "## Setup"
   ]
  },
  {
   "cell_type": "code",
   "execution_count": 1,
   "id": "9b50041f",
   "metadata": {},
   "outputs": [],
   "source": [
    "import ast"
   ]
  },
  {
   "cell_type": "code",
   "execution_count": 2,
   "id": "9710a0ac",
   "metadata": {},
   "outputs": [],
   "source": [
    "AST_FILENAME=\"<ast>\""
   ]
  },
  {
   "cell_type": "code",
   "execution_count": 3,
   "id": "19e02508",
   "metadata": {},
   "outputs": [],
   "source": [
    "AST_MODE=\"eval\""
   ]
  },
  {
   "cell_type": "markdown",
   "id": "20950e9b",
   "metadata": {},
   "source": [
    "## Example"
   ]
  },
  {
   "cell_type": "code",
   "execution_count": 4,
   "id": "96840167",
   "metadata": {},
   "outputs": [],
   "source": [
    "expression=\"sum([x+1 for x in y])\""
   ]
  },
  {
   "cell_type": "code",
   "execution_count": 5,
   "id": "c041632f",
   "metadata": {},
   "outputs": [],
   "source": [
    "params={\"y\":[0,1,2]}"
   ]
  },
  {
   "cell_type": "markdown",
   "id": "c7624341",
   "metadata": {},
   "source": [
    "## Parsing"
   ]
  },
  {
   "cell_type": "code",
   "execution_count": 6,
   "id": "2662b89c",
   "metadata": {},
   "outputs": [],
   "source": [
    "tree = ast.parse(expression,mode=AST_MODE)"
   ]
  },
  {
   "cell_type": "code",
   "execution_count": 7,
   "id": "cbd1a00a",
   "metadata": {},
   "outputs": [
    {
     "data": {
      "text/plain": [
       "ast.Expression"
      ]
     },
     "execution_count": 7,
     "metadata": {},
     "output_type": "execute_result"
    }
   ],
   "source": [
    "type(tree)"
   ]
  },
  {
   "cell_type": "markdown",
   "id": "68f6dec6",
   "metadata": {},
   "source": [
    "## Compile"
   ]
  },
  {
   "cell_type": "code",
   "execution_count": 8,
   "id": "cb9d47b9",
   "metadata": {},
   "outputs": [],
   "source": [
    "obj=compile(tree,AST_FILENAME,AST_MODE)"
   ]
  },
  {
   "cell_type": "code",
   "execution_count": 9,
   "id": "082e14e9",
   "metadata": {},
   "outputs": [
    {
     "data": {
      "text/plain": [
       "code"
      ]
     },
     "execution_count": 9,
     "metadata": {},
     "output_type": "execute_result"
    }
   ],
   "source": [
    "type(obj)"
   ]
  },
  {
   "cell_type": "markdown",
   "id": "40c4bf1c",
   "metadata": {},
   "source": [
    "## Evaluate"
   ]
  },
  {
   "cell_type": "code",
   "execution_count": 10,
   "id": "e6127bbc",
   "metadata": {},
   "outputs": [
    {
     "data": {
      "text/plain": [
       "6"
      ]
     },
     "execution_count": 10,
     "metadata": {},
     "output_type": "execute_result"
    }
   ],
   "source": [
    "eval(obj,params)"
   ]
  },
  {
   "cell_type": "markdown",
   "id": "6f4a6f4c",
   "metadata": {},
   "source": [
    "## Walk"
   ]
  },
  {
   "cell_type": "code",
   "execution_count": 11,
   "id": "f0fdbe11",
   "metadata": {},
   "outputs": [
    {
     "data": {
      "text/plain": [
       "['sum', 'x', 'x', 'y']"
      ]
     },
     "execution_count": 11,
     "metadata": {},
     "output_type": "execute_result"
    }
   ],
   "source": [
    "vars=[]\n",
    "for node in ast.walk(tree):\n",
    "  if isinstance(node,ast.Name):\n",
    "    vars.append(node.id)\n",
    "vars"
   ]
  },
  {
   "cell_type": "markdown",
   "id": "c14edf34",
   "metadata": {},
   "source": [
    "This is not correct, of course.\n",
    "Can we fix it?"
   ]
  },
  {
   "cell_type": "code",
   "execution_count": 12,
   "id": "e86a5dee",
   "metadata": {},
   "outputs": [
    {
     "name": "stdout",
     "output_type": "stream",
     "text": [
      "<class 'ast.Expression'>\n",
      "<class 'ast.Call'>\n",
      "<class 'ast.Name'> sum <class 'ast.Load'>\n",
      "<class 'ast.ListComp'>\n",
      "<class 'ast.Load'>\n",
      "<class 'ast.BinOp'>\n",
      "<class 'ast.comprehension'>\n",
      "<class 'ast.Name'> x <class 'ast.Load'>\n",
      "<class 'ast.Add'>\n",
      "<class 'ast.Constant'>\n",
      "<class 'ast.Name'> x <class 'ast.Store'>\n",
      "<class 'ast.Name'> y <class 'ast.Load'>\n",
      "<class 'ast.Load'>\n",
      "<class 'ast.Store'>\n",
      "<class 'ast.Load'>\n"
     ]
    }
   ],
   "source": [
    "for node in ast.walk(tree):\n",
    "  if isinstance(node,ast.Name):\n",
    "    print(type(node),node.id,type(node.ctx))\n",
    "  else:\n",
    "    print(type(node))"
   ]
  },
  {
   "cell_type": "code",
   "execution_count": 13,
   "id": "47caedc9",
   "metadata": {},
   "outputs": [],
   "source": [
    "vars={}\n",
    "for node in ast.walk(tree):\n",
    "  if isinstance(node,ast.Call):\n",
    "    vars[node.func.id]=False\n",
    "  elif isinstance(node,ast.Name):\n",
    "    if node.id not in vars.keys():\n",
    "      vars[node.id]=True\n",
    "    if isinstance(node.ctx,ast.Store):\n",
    "      vars[node.id]=False\n",
    "deps=[k for k,v in vars.items() if v]"
   ]
  },
  {
   "cell_type": "code",
   "execution_count": 14,
   "id": "e895bb46",
   "metadata": {},
   "outputs": [
    {
     "data": {
      "text/plain": [
       "{'sum': False, 'x': False, 'y': True}"
      ]
     },
     "execution_count": 14,
     "metadata": {},
     "output_type": "execute_result"
    }
   ],
   "source": [
    "vars"
   ]
  },
  {
   "cell_type": "code",
   "execution_count": 15,
   "id": "ee3afd20",
   "metadata": {},
   "outputs": [
    {
     "data": {
      "text/plain": [
       "['y']"
      ]
     },
     "execution_count": 15,
     "metadata": {},
     "output_type": "execute_result"
    }
   ],
   "source": [
    "deps"
   ]
  },
  {
   "cell_type": "markdown",
   "id": "b791d2dc",
   "metadata": {},
   "source": [
    "That works here. But are there more complicated expressions that would still fail?"
   ]
  },
  {
   "cell_type": "code",
   "execution_count": null,
   "id": "046e7c1b",
   "metadata": {},
   "outputs": [],
   "source": []
  }
 ],
 "metadata": {
  "kernelspec": {
   "display_name": "Python 3 (ipykernel)",
   "language": "python",
   "name": "python3"
  },
  "language_info": {
   "codemirror_mode": {
    "name": "ipython",
    "version": 3
   },
   "file_extension": ".py",
   "mimetype": "text/x-python",
   "name": "python",
   "nbconvert_exporter": "python",
   "pygments_lexer": "ipython3",
   "version": "3.9.6"
  }
 },
 "nbformat": 4,
 "nbformat_minor": 5
}
